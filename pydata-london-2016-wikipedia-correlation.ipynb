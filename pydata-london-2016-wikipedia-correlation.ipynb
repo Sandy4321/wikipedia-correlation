{
 "cells": [
  {
   "cell_type": "markdown",
   "metadata": {
    "slideshow": {
     "slide_type": "slide"
    }
   },
   "source": [
    "# Estimating Stock Price Correlations using Wikipedia \n",
    "\n",
    "<br>\n",
    "<br>\n",
    "\n",
    "## Delia Rusu\n",
    "\n",
    "<br>\n",
    "<br>\n",
    "\n",
    "<img src=\"images/PyData.png\" width=200>"
   ]
  },
  {
   "cell_type": "markdown",
   "metadata": {
    "slideshow": {
     "slide_type": "slide"
    }
   },
   "source": [
    "# About Me\n",
    "\n",
    "<img src='images/DSC03277.jpg' width=500 height=500>"
   ]
  },
  {
   "cell_type": "markdown",
   "metadata": {
    "slideshow": {
     "slide_type": "slide"
    }
   },
   "source": [
    "\n",
    "# Delia Rusu\n",
    "\n",
    "\n",
    "- Chief Data Scientist @ Knowsis\n",
    "\n",
    "- PhD, Natural Language Processing and Machine Learning\n",
    "\n",
    "- Interests: unstructured data & finance"
   ]
  },
  {
   "cell_type": "markdown",
   "metadata": {
    "slideshow": {
     "slide_type": "slide"
    }
   },
   "source": [
    "# This Talk\n",
    "\n",
    "<img src=\"images/ThisTalk.jpg\" width=800>"
   ]
  },
  {
   "cell_type": "markdown",
   "metadata": {
    "slideshow": {
     "slide_type": "slide"
    }
   },
   "source": [
    "# Financial Data\n",
    "\n",
    "<img src=\"images/FTSE100.png\">"
   ]
  },
  {
   "cell_type": "markdown",
   "metadata": {
    "slideshow": {
     "slide_type": "slide"
    }
   },
   "source": [
    "# Sources of Unstructured Data\n",
    "\n",
    "- Annual reports\n",
    "\n",
    "- Broker research\n",
    "\n",
    "- Conference call transcripts\n",
    "\n",
    "- Investor relations presentations\n",
    "\n",
    "- News and press releases\n",
    "\n",
    "- In-house content"
   ]
  },
  {
   "cell_type": "markdown",
   "metadata": {
    "slideshow": {
     "slide_type": "slide"
    }
   },
   "source": [
    "# What about unconventional datasets?"
   ]
  },
  {
   "cell_type": "markdown",
   "metadata": {
    "slideshow": {
     "slide_type": "slide"
    }
   },
   "source": [
    "# Wikipedia\n",
    "\n",
    "- 10 edits per second\n",
    "\n",
    "- the English Wikipedia \n",
    "  - currently has over 5M articles\n",
    "  - average of 800 new articles per day "
   ]
  },
  {
   "cell_type": "markdown",
   "metadata": {
    "slideshow": {
     "slide_type": "subslide"
    }
   },
   "source": [
    "# Structured Views of Wikipedia\n",
    "\n",
    "- Wikipedia article -> vectorized representation of the context\n",
    "\n",
    "- Wikipedia as a graph"
   ]
  },
  {
   "cell_type": "markdown",
   "metadata": {
    "slideshow": {
     "slide_type": "subslide"
    }
   },
   "source": [
    "# Word2Vec\n",
    "\n",
    "- Word2Vec model (Mikolov et al. 2013)\n",
    "  - distributional hypothesis: words in similar contexts have similar meanings\n",
    "  - shallow, 2-layer neural network\n",
    "  - training objective - learn word vector representations which can predict nearby words (in context)\n",
    "  \n",
    "<img src=\"images/SkipGramModel.png\">"
   ]
  },
  {
   "cell_type": "markdown",
   "metadata": {
    "slideshow": {
     "slide_type": "subslide"
    }
   },
   "source": [
    "# Word & Article Vectors\n",
    "\n",
    "- generate context vectors for:\n",
    "  - words which appear in Wikipedia articles\n",
    "  - Wikipedia articles themselves (topics)\n",
    "  \n",
    "- model: wiki2vec\n",
    "  - https://github.com/idio/wiki2vec"
   ]
  },
  {
   "cell_type": "markdown",
   "metadata": {
    "slideshow": {
     "slide_type": "fragment"
    }
   },
   "source": [
    "**Unilever** is an Anglo-Dutch **multinational consumer goods company**"
   ]
  },
  {
   "cell_type": "markdown",
   "metadata": {
    "slideshow": {
     "slide_type": "fragment"
    }
   },
   "source": [
    "**Unilever_ID** is an Anglo-Dutch **multinational_consumer_goods_company_ID**"
   ]
  },
  {
   "cell_type": "markdown",
   "metadata": {
    "slideshow": {
     "slide_type": "subslide"
    }
   },
   "source": [
    "# Wikipedia Graph\n",
    "\n",
    "- Types of nodes:\n",
    "  - articles, categories\n",
    "    \n",
    "- Types of directed edges:\n",
    "  - hyperlinks from article to article\n",
    "  - infobox links from article to article \n",
    "  - links from article to category\n",
    "  - links from category to category"
   ]
  },
  {
   "cell_type": "markdown",
   "metadata": {
    "slideshow": {
     "slide_type": "subslide"
    }
   },
   "source": [
    "# Graph-Based Similarity\n",
    "\n",
    "- using the distance between nodes in the graph\n",
    "  - in this case, $$Similarity(v_1,v_2) = 1 - Distance(v_1, v_2)$$\n",
    "  \n",
    "- using random walks on graphs\n",
    "  - Personalized PageRank (Haveliwala, 2002) is a variation of PageRank (Brin and Page, 1998)\n",
    "  - the user query defines how important the vertex is, such that PageRank will prefer vertexes in the vicinity of the query vertex."
   ]
  },
  {
   "cell_type": "markdown",
   "metadata": {
    "slideshow": {
     "slide_type": "slide"
    }
   },
   "source": [
    "# FTSE 100 Index Analysis"
   ]
  },
  {
   "cell_type": "code",
   "execution_count": 2,
   "metadata": {
    "collapsed": false,
    "slideshow": {
     "slide_type": "fragment"
    }
   },
   "outputs": [
    {
     "data": {
      "text/html": [
       "<div>\n",
       "<table border=\"1\" class=\"dataframe\">\n",
       "  <thead>\n",
       "    <tr style=\"text-align: right;\">\n",
       "      <th></th>\n",
       "      <th>Company</th>\n",
       "      <th>Ticker</th>\n",
       "      <th>Sector</th>\n",
       "      <th>Market cap</th>\n",
       "      <th>Employees</th>\n",
       "    </tr>\n",
       "  </thead>\n",
       "  <tbody>\n",
       "    <tr>\n",
       "      <th>0</th>\n",
       "      <td>3i</td>\n",
       "      <td>III</td>\n",
       "      <td>Private equity</td>\n",
       "      <td>4.06</td>\n",
       "      <td>266</td>\n",
       "    </tr>\n",
       "    <tr>\n",
       "      <th>1</th>\n",
       "      <td>Aberdeen Asset Management</td>\n",
       "      <td>ADN</td>\n",
       "      <td>Fund management</td>\n",
       "      <td>3.14</td>\n",
       "      <td>1,800</td>\n",
       "    </tr>\n",
       "    <tr>\n",
       "      <th>2</th>\n",
       "      <td>Admiral Group</td>\n",
       "      <td>ADM</td>\n",
       "      <td>Insurance</td>\n",
       "      <td>4.91</td>\n",
       "      <td>2,500</td>\n",
       "    </tr>\n",
       "    <tr>\n",
       "      <th>3</th>\n",
       "      <td>Anglo American plc</td>\n",
       "      <td>AAL</td>\n",
       "      <td>Mining</td>\n",
       "      <td>6.09</td>\n",
       "      <td>100,000</td>\n",
       "    </tr>\n",
       "    <tr>\n",
       "      <th>4</th>\n",
       "      <td>Antofagasta PLC</td>\n",
       "      <td>ANTO</td>\n",
       "      <td>Mining</td>\n",
       "      <td>4.71</td>\n",
       "      <td>4,005</td>\n",
       "    </tr>\n",
       "  </tbody>\n",
       "</table>\n",
       "</div>"
      ],
      "text/plain": [
       "                     Company Ticker           Sector  Market cap Employees\n",
       "0                         3i    III   Private equity        4.06       266\n",
       "1  Aberdeen Asset Management    ADN  Fund management        3.14     1,800\n",
       "2              Admiral Group    ADM        Insurance        4.91     2,500\n",
       "3         Anglo American plc    AAL           Mining        6.09   100,000\n",
       "4            Antofagasta PLC   ANTO           Mining        4.71     4,005"
      ]
     },
     "execution_count": 2,
     "metadata": {},
     "output_type": "execute_result"
    }
   ],
   "source": [
    "import pandas as pd\n",
    "\n",
    "df_ftse_100_companies = pd.read_csv(\"ftse_100_companies.tsv\", sep='\\t')\n",
    "df_ftse_100_companies.head()"
   ]
  },
  {
   "cell_type": "markdown",
   "metadata": {
    "slideshow": {
     "slide_type": "subslide"
    }
   },
   "source": [
    "# Wikipedia Similarity\n",
    "\n",
    "- using gensim's Word2Vec for model building and similarity computation\n",
    "\n",
    "- obtain pairwise similarity"
   ]
  },
  {
   "cell_type": "code",
   "execution_count": 3,
   "metadata": {
    "collapsed": false,
    "slideshow": {
     "slide_type": "fragment"
    }
   },
   "outputs": [
    {
     "data": {
      "text/html": [
       "<div>\n",
       "<table border=\"1\" class=\"dataframe\">\n",
       "  <thead>\n",
       "    <tr style=\"text-align: right;\">\n",
       "      <th></th>\n",
       "      <th>Company1</th>\n",
       "      <th>Company2</th>\n",
       "      <th>W2V Similarity</th>\n",
       "    </tr>\n",
       "  </thead>\n",
       "  <tbody>\n",
       "    <tr>\n",
       "      <th>0</th>\n",
       "      <td>3i</td>\n",
       "      <td>Aberdeen_Asset_Management</td>\n",
       "      <td>NaN</td>\n",
       "    </tr>\n",
       "    <tr>\n",
       "      <th>1</th>\n",
       "      <td>3i</td>\n",
       "      <td>Admiral_Group</td>\n",
       "      <td>NaN</td>\n",
       "    </tr>\n",
       "    <tr>\n",
       "      <th>2</th>\n",
       "      <td>3i</td>\n",
       "      <td>Anglo_American_plc</td>\n",
       "      <td>0.399286</td>\n",
       "    </tr>\n",
       "    <tr>\n",
       "      <th>3</th>\n",
       "      <td>3i</td>\n",
       "      <td>Antofagasta_PLC</td>\n",
       "      <td>NaN</td>\n",
       "    </tr>\n",
       "    <tr>\n",
       "      <th>4</th>\n",
       "      <td>3i</td>\n",
       "      <td>ARM_Holdings</td>\n",
       "      <td>0.267260</td>\n",
       "    </tr>\n",
       "  </tbody>\n",
       "</table>\n",
       "</div>"
      ],
      "text/plain": [
       "  Company1                   Company2  W2V Similarity\n",
       "0       3i  Aberdeen_Asset_Management             NaN\n",
       "1       3i              Admiral_Group             NaN\n",
       "2       3i         Anglo_American_plc        0.399286\n",
       "3       3i            Antofagasta_PLC             NaN\n",
       "4       3i               ARM_Holdings        0.267260"
      ]
     },
     "execution_count": 3,
     "metadata": {},
     "output_type": "execute_result"
    }
   ],
   "source": [
    "df_similarities = pd.read_csv('ftse_100_company_pairs_similarities_w2v.csv')\n",
    "df_similarities.head()"
   ]
  },
  {
   "cell_type": "markdown",
   "metadata": {
    "slideshow": {
     "slide_type": "subslide"
    }
   },
   "source": [
    "# Pricing Data "
   ]
  },
  {
   "cell_type": "code",
   "execution_count": 30,
   "metadata": {
    "collapsed": false,
    "slideshow": {
     "slide_type": "fragment"
    }
   },
   "outputs": [
    {
     "data": {
      "text/html": [
       "<div>\n",
       "<table border=\"1\" class=\"dataframe\">\n",
       "  <thead>\n",
       "    <tr style=\"text-align: right;\">\n",
       "      <th></th>\n",
       "      <th>Open</th>\n",
       "      <th>High</th>\n",
       "      <th>Low</th>\n",
       "      <th>Close</th>\n",
       "      <th>Volume</th>\n",
       "      <th>Adj Close</th>\n",
       "    </tr>\n",
       "    <tr>\n",
       "      <th>Date</th>\n",
       "      <th></th>\n",
       "      <th></th>\n",
       "      <th></th>\n",
       "      <th></th>\n",
       "      <th></th>\n",
       "      <th></th>\n",
       "    </tr>\n",
       "  </thead>\n",
       "  <tbody>\n",
       "    <tr>\n",
       "      <th>2013-01-01</th>\n",
       "      <td>2909.5</td>\n",
       "      <td>2909.50</td>\n",
       "      <td>2909.50</td>\n",
       "      <td>2909.5</td>\n",
       "      <td>0</td>\n",
       "      <td>2441.043</td>\n",
       "    </tr>\n",
       "    <tr>\n",
       "      <th>2013-01-02</th>\n",
       "      <td>2930.0</td>\n",
       "      <td>2969.30</td>\n",
       "      <td>2923.00</td>\n",
       "      <td>2969.0</td>\n",
       "      <td>2394700</td>\n",
       "      <td>2490.963</td>\n",
       "    </tr>\n",
       "    <tr>\n",
       "      <th>2013-01-03</th>\n",
       "      <td>2969.5</td>\n",
       "      <td>2982.50</td>\n",
       "      <td>2952.50</td>\n",
       "      <td>2980.0</td>\n",
       "      <td>1763100</td>\n",
       "      <td>2500.192</td>\n",
       "    </tr>\n",
       "    <tr>\n",
       "      <th>2013-01-04</th>\n",
       "      <td>2992.5</td>\n",
       "      <td>3005.00</td>\n",
       "      <td>2975.21</td>\n",
       "      <td>3000.0</td>\n",
       "      <td>2041100</td>\n",
       "      <td>2516.972</td>\n",
       "    </tr>\n",
       "    <tr>\n",
       "      <th>2013-01-07</th>\n",
       "      <td>2998.5</td>\n",
       "      <td>3004.99</td>\n",
       "      <td>2976.00</td>\n",
       "      <td>2985.0</td>\n",
       "      <td>1185200</td>\n",
       "      <td>2504.387</td>\n",
       "    </tr>\n",
       "  </tbody>\n",
       "</table>\n",
       "</div>"
      ],
      "text/plain": [
       "              Open     High      Low   Close   Volume  Adj Close\n",
       "Date                                                            \n",
       "2013-01-01  2909.5  2909.50  2909.50  2909.5        0   2441.043\n",
       "2013-01-02  2930.0  2969.30  2923.00  2969.0  2394700   2490.963\n",
       "2013-01-03  2969.5  2982.50  2952.50  2980.0  1763100   2500.192\n",
       "2013-01-04  2992.5  3005.00  2975.21  3000.0  2041100   2516.972\n",
       "2013-01-07  2998.5  3004.99  2976.00  2985.0  1185200   2504.387"
      ]
     },
     "execution_count": 30,
     "metadata": {},
     "output_type": "execute_result"
    }
   ],
   "source": [
    "from pandas_datareader import data\n",
    "df_company_pricing = data.YahooDailyReader(symbols='AZN.L', start='2013-1-1').read()\n",
    "df_company_pricing.head()"
   ]
  },
  {
   "cell_type": "markdown",
   "metadata": {
    "slideshow": {
     "slide_type": "subslide"
    }
   },
   "source": [
    "# Correlating Daily Returns\n",
    "\n",
    "- Obtain daily returns for each FTSE 100 company\n",
    "\n",
    "- Calculate the correlation for each possible pair"
   ]
  },
  {
   "cell_type": "code",
   "execution_count": 18,
   "metadata": {
    "collapsed": false,
    "slideshow": {
     "slide_type": "fragment"
    }
   },
   "outputs": [
    {
     "data": {
      "text/html": [
       "<div>\n",
       "<table border=\"1\" class=\"dataframe\">\n",
       "  <thead>\n",
       "    <tr style=\"text-align: right;\">\n",
       "      <th></th>\n",
       "      <th>Company1</th>\n",
       "      <th>Company2</th>\n",
       "      <th>Correlation</th>\n",
       "    </tr>\n",
       "  </thead>\n",
       "  <tbody>\n",
       "    <tr>\n",
       "      <th>0</th>\n",
       "      <td>3i</td>\n",
       "      <td>Aberdeen_Asset_Management</td>\n",
       "      <td>0.047557</td>\n",
       "    </tr>\n",
       "    <tr>\n",
       "      <th>1</th>\n",
       "      <td>3i</td>\n",
       "      <td>Admiral_Group</td>\n",
       "      <td>0.067823</td>\n",
       "    </tr>\n",
       "    <tr>\n",
       "      <th>2</th>\n",
       "      <td>3i</td>\n",
       "      <td>Anglo_American_plc</td>\n",
       "      <td>0.091343</td>\n",
       "    </tr>\n",
       "    <tr>\n",
       "      <th>3</th>\n",
       "      <td>3i</td>\n",
       "      <td>Antofagasta</td>\n",
       "      <td>0.057116</td>\n",
       "    </tr>\n",
       "    <tr>\n",
       "      <th>4</th>\n",
       "      <td>3i</td>\n",
       "      <td>ARM_Holdings</td>\n",
       "      <td>0.077546</td>\n",
       "    </tr>\n",
       "  </tbody>\n",
       "</table>\n",
       "</div>"
      ],
      "text/plain": [
       "  Company1                   Company2  Correlation\n",
       "0       3i  Aberdeen_Asset_Management     0.047557\n",
       "1       3i              Admiral_Group     0.067823\n",
       "2       3i         Anglo_American_plc     0.091343\n",
       "3       3i                Antofagasta     0.057116\n",
       "4       3i               ARM_Holdings     0.077546"
      ]
     },
     "execution_count": 18,
     "metadata": {},
     "output_type": "execute_result"
    }
   ],
   "source": [
    "df_correlations = pd.read_csv('ftse_100_company_pairs_correlations.csv')\n",
    "df_correlations.head()"
   ]
  },
  {
   "cell_type": "markdown",
   "metadata": {
    "slideshow": {
     "slide_type": "subslide"
    }
   },
   "source": [
    "# Does the Wikipedia Similarity Explain Correlation of Returns?"
   ]
  },
  {
   "cell_type": "code",
   "execution_count": 26,
   "metadata": {
    "collapsed": false,
    "slideshow": {
     "slide_type": "subslide"
    }
   },
   "outputs": [
    {
     "data": {
      "text/plain": [
       "<seaborn.axisgrid.FacetGrid at 0x114b7b350>"
      ]
     },
     "metadata": {},
     "output_type": "display_data"
    },
    {
     "data": {
      "image/png": "[encoded data removed]",
      "text/plain": [
       "<matplotlib.figure.Figure at 0x115036150>"
      ]
     },
     "metadata": {},
     "output_type": "display_data"
    }
   ],
   "source": [
    "%matplotlib inline\n",
    "from IPython.display import display\n",
    "import seaborn as sns\n",
    "sns.set(style=\"ticks\")\n",
    "\n",
    "df_market_cap = pd.read_csv('ftse_100_market_cap_7.csv')\n",
    "\n",
    "display(sns.lmplot(\"W2V Similarity\", \"Correlation\", data=df_market_cap))"
   ]
  },
  {
   "cell_type": "markdown",
   "metadata": {
    "slideshow": {
     "slide_type": "fragment"
    }
   },
   "source": [
    "$$R^2 = 0.179$$"
   ]
  },
  {
   "cell_type": "code",
   "execution_count": 27,
   "metadata": {
    "collapsed": false,
    "slideshow": {
     "slide_type": "subslide"
    }
   },
   "outputs": [
    {
     "data": {
      "text/plain": [
       "<seaborn.axisgrid.FacetGrid at 0x1154d8810>"
      ]
     },
     "metadata": {},
     "output_type": "display_data"
    },
    {
     "data": {
      "image/png": "[encoded data removed]",
      "text/plain": [
       "<matplotlib.figure.Figure at 0x115354550>"
      ]
     },
     "metadata": {},
     "output_type": "display_data"
    }
   ],
   "source": [
    "df_market_cap = pd.read_csv('ftse_100_market_cap_12.csv')\n",
    "\n",
    "display(sns.lmplot(\"W2V Similarity\", \"Correlation\", data=df_market_cap))"
   ]
  },
  {
   "cell_type": "markdown",
   "metadata": {
    "slideshow": {
     "slide_type": "fragment"
    }
   },
   "source": [
    "$$R^2 = 0.333$$"
   ]
  },
  {
   "cell_type": "markdown",
   "metadata": {
    "slideshow": {
     "slide_type": "slide"
    }
   },
   "source": [
    "# Remarks\n",
    "\n",
    "- Wikipedia, an unconventional source of unstructured data, has explanatory power for financial variables\n",
    "\n",
    "- Graph-based similarity \n",
    "  - does not capture similarity so well within a specific topic\n",
    "  - categories are too broad - e.g. \"Companies listed on the London Stock Exchange\", \"Companies based in London\" \n",
    "\n",
    "- Context-based similarity (Word2Vec)\n",
    "  - more powerful measure, captures similarity between words, topics\n",
    "\n",
    "- A lot more to be gained from industry-specific documents\n",
    "  - e.g. annual reports, conference call transcripts"
   ]
  },
  {
   "cell_type": "markdown",
   "metadata": {
    "slideshow": {
     "slide_type": "slide"
    }
   },
   "source": [
    "# Applications\n",
    "\n",
    "- predicting financial figures solely based on unstructured data or using hybrid models (unstructured + structured data)\n",
    "\n",
    "- estimating financial figures, ratios or statistical moments when relevant quantitative data is not available \n",
    "  - e.g. the time preceding an IPO"
   ]
  },
  {
   "cell_type": "markdown",
   "metadata": {
    "slideshow": {
     "slide_type": "slide"
    }
   },
   "source": [
    "# Resources\n",
    "\n",
    "- Word2Vec and Wiki2Vec\n",
    "  - Tomas Mikolov, Ilya Sutskever, Kai Chen, Greg Corrado, and Jeffrey Dean. Distributed Representations of Words and Phrases and their Compositionality. In Proceedings of NIPS, 2013.\n",
    "  - [Word2Vec code repository](https://code.google.com/archive/p/word2vec/)\n",
    "  - [Word2Vec in gensim](https://radimrehurek.com/gensim/models/word2vec.html)\n",
    "  - [Wiki2Vec](https://github.com/idio/wiki2vec)\n",
    "  \n",
    "- Graph-Based Similarity\n",
    "  - Agirre, Eneko, Ander Barrena, and Aitor Soroa. \"Studying the Wikipedia Hyperlink Graph for Relatedness and Disambiguation.\" arXiv preprint arXiv:1503.01655, 2015.\n",
    "  - Delia Rusu. Text Annotation using Background Knowledge. PhD Thesis. Ljubljana, 2014.\n",
    "  \n",
    "- Notebook for this presentation\n",
    "  - https://github.com/deliarusu"
   ]
  },
  {
   "cell_type": "markdown",
   "metadata": {
    "slideshow": {
     "slide_type": "slide"
    }
   },
   "source": [
    "# Thank You!\n",
    "\n",
    "# Questions?\n",
    "\n",
    "<img src=\"images/ThisTalk.jpg\" width=600>"
   ]
  }
 ],
 "metadata": {
  "celltoolbar": "Slideshow",
  "kernelspec": {
   "display_name": "Python 2",
   "language": "python",
   "name": "python2"
  },
  "language_info": {
   "codemirror_mode": {
    "name": "ipython",
    "version": 2
   },
   "file_extension": ".py",
   "mimetype": "text/x-python",
   "name": "python",
   "nbconvert_exporter": "python",
   "pygments_lexer": "ipython2",
   "version": "2.7.11"
  }
 },
 "nbformat": 4,
 "nbformat_minor": 0
}
